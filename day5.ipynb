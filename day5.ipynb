{
 "cells": [
  {
   "cell_type": "code",
   "execution_count": null,
   "id": "fd58351f",
   "metadata": {},
   "outputs": [],
   "source": [
    "Organising the list datatype"
   ]
  },
  {
   "cell_type": "code",
   "execution_count": 1,
   "id": "df525c80",
   "metadata": {},
   "outputs": [],
   "source": [
    "cars=['suzuki','bmw','maruthi','audi','benz','kia']"
   ]
  },
  {
   "cell_type": "code",
   "execution_count": 2,
   "id": "9944791a",
   "metadata": {},
   "outputs": [
    {
     "name": "stdout",
     "output_type": "stream",
     "text": [
      "['suzuki', 'bmw', 'maruthi', 'audi', 'benz', 'kia']\n"
     ]
    }
   ],
   "source": [
    "print(cars)\n"
   ]
  },
  {
   "cell_type": "code",
   "execution_count": 3,
   "id": "37ea7d65",
   "metadata": {},
   "outputs": [
    {
     "data": {
      "text/plain": [
       "list"
      ]
     },
     "execution_count": 3,
     "metadata": {},
     "output_type": "execute_result"
    }
   ],
   "source": [
    "type(cars)"
   ]
  },
  {
   "cell_type": "code",
   "execution_count": null,
   "id": "9e41b5b9",
   "metadata": {},
   "outputs": [],
   "source": [
    "#req i want to organise the list in the alphabetical order"
   ]
  },
  {
   "cell_type": "code",
   "execution_count": null,
   "id": "c1ac2f90",
   "metadata": {},
   "outputs": [],
   "source": [
    "Two approaches"
   ]
  },
  {
   "cell_type": "code",
   "execution_count": null,
   "id": "6a076110",
   "metadata": {},
   "outputs": [],
   "source": [
    "1.Temporary approach  sorted we are having the original order of the list"
   ]
  },
  {
   "cell_type": "code",
   "execution_count": null,
   "id": "d151dffc",
   "metadata": {},
   "outputs": [],
   "source": [
    "2.Permanent apperach  sort  changes are applied the the list permentantly"
   ]
  },
  {
   "cell_type": "code",
   "execution_count": 4,
   "id": "20ea2dec",
   "metadata": {},
   "outputs": [
    {
     "name": "stdout",
     "output_type": "stream",
     "text": [
      "['audi', 'benz', 'bmw', 'kia', 'maruthi', 'suzuki']\n"
     ]
    }
   ],
   "source": [
    "print(sorted(cars))"
   ]
  },
  {
   "cell_type": "code",
   "execution_count": 5,
   "id": "004a82d0",
   "metadata": {},
   "outputs": [
    {
     "name": "stdout",
     "output_type": "stream",
     "text": [
      "['suzuki', 'bmw', 'maruthi', 'audi', 'benz', 'kia']\n"
     ]
    }
   ],
   "source": [
    "print(cars)"
   ]
  },
  {
   "cell_type": "code",
   "execution_count": 6,
   "id": "36c1a2ba",
   "metadata": {},
   "outputs": [
    {
     "name": "stdout",
     "output_type": "stream",
     "text": [
      "['audi', 'benz', 'bmw', 'kia', 'maruthi', 'suzuki']\n"
     ]
    }
   ],
   "source": [
    "cars.sort()\n",
    "print(cars)"
   ]
  },
  {
   "cell_type": "code",
   "execution_count": null,
   "id": "3d6997a8",
   "metadata": {},
   "outputs": [],
   "source": [
    "Interview question : what is the diff. sorted and sort method in the list datatype"
   ]
  },
  {
   "cell_type": "code",
   "execution_count": null,
   "id": "80dab95a",
   "metadata": {},
   "outputs": [],
   "source": [
    "#req i want to reverse the order"
   ]
  },
  {
   "cell_type": "code",
   "execution_count": 7,
   "id": "c9ad07c3",
   "metadata": {},
   "outputs": [
    {
     "name": "stdout",
     "output_type": "stream",
     "text": [
      "['suzuki', 'maruthi', 'kia', 'bmw', 'benz', 'audi']\n"
     ]
    }
   ],
   "source": [
    "cars.reverse()\n",
    "print(cars)"
   ]
  },
  {
   "cell_type": "code",
   "execution_count": 8,
   "id": "077d2cf8",
   "metadata": {},
   "outputs": [
    {
     "data": {
      "text/plain": [
       "6"
      ]
     },
     "execution_count": 8,
     "metadata": {},
     "output_type": "execute_result"
    }
   ],
   "source": [
    "len(cars)"
   ]
  },
  {
   "cell_type": "code",
   "execution_count": null,
   "id": "beb01254",
   "metadata": {},
   "outputs": [],
   "source": [
    "Introduction to slicing"
   ]
  },
  {
   "cell_type": "code",
   "execution_count": 9,
   "id": "e18fe77c",
   "metadata": {},
   "outputs": [
    {
     "name": "stdout",
     "output_type": "stream",
     "text": [
      "['kumar', 'naveed', 'david', 'arun', 'visesha', 'nasreen', 'saba', 'teja']\n"
     ]
    }
   ],
   "source": [
    "students= ['kumar','naveed','david','arun','visesha','nasreen','saba','teja']\n",
    "print(students)"
   ]
  },
  {
   "cell_type": "code",
   "execution_count": null,
   "id": "7d6fd565",
   "metadata": {},
   "outputs": [],
   "source": [
    "#genral syntax of slicing\n",
    "[startvalue:stopvalur:stepcount]"
   ]
  },
  {
   "cell_type": "code",
   "execution_count": null,
   "id": "c4bc4fc1",
   "metadata": {},
   "outputs": [],
   "source": [
    "note :  always last value is exclusive to include the last value we have to increment the index by +1"
   ]
  },
  {
   "cell_type": "code",
   "execution_count": null,
   "id": "a93d6417",
   "metadata": {},
   "outputs": [],
   "source": [
    "# req i want to include kumar and naveed in the slice"
   ]
  },
  {
   "cell_type": "code",
   "execution_count": 10,
   "id": "4f13a237",
   "metadata": {},
   "outputs": [
    {
     "name": "stdout",
     "output_type": "stream",
     "text": [
      "['kumar']\n"
     ]
    }
   ],
   "source": [
    "print(students[0:1])"
   ]
  },
  {
   "cell_type": "code",
   "execution_count": 11,
   "id": "4016ccbd",
   "metadata": {},
   "outputs": [
    {
     "name": "stdout",
     "output_type": "stream",
     "text": [
      "['kumar', 'naveed']\n"
     ]
    }
   ],
   "source": [
    "print(students[0:2])"
   ]
  },
  {
   "cell_type": "code",
   "execution_count": 12,
   "id": "b20a71b7",
   "metadata": {},
   "outputs": [
    {
     "name": "stdout",
     "output_type": "stream",
     "text": [
      "['visesha', 'nasreen', 'saba']\n"
     ]
    }
   ],
   "source": [
    "print(students[4:7])"
   ]
  },
  {
   "cell_type": "code",
   "execution_count": 13,
   "id": "29d48554",
   "metadata": {},
   "outputs": [
    {
     "name": "stdout",
     "output_type": "stream",
     "text": [
      "['kumar', 'david', 'visesha', 'saba']\n"
     ]
    }
   ],
   "source": [
    "print(students[0:7:2])"
   ]
  },
  {
   "cell_type": "code",
   "execution_count": null,
   "id": "4373281a",
   "metadata": {},
   "outputs": [],
   "source": []
  }
 ],
 "metadata": {
  "kernelspec": {
   "display_name": "Python 3 (ipykernel)",
   "language": "python",
   "name": "python3"
  },
  "language_info": {
   "codemirror_mode": {
    "name": "ipython",
    "version": 3
   },
   "file_extension": ".py",
   "mimetype": "text/x-python",
   "name": "python",
   "nbconvert_exporter": "python",
   "pygments_lexer": "ipython3",
   "version": "3.10.9"
  }
 },
 "nbformat": 4,
 "nbformat_minor": 5
}
