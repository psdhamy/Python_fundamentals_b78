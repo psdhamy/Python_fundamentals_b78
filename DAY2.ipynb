{
 "cells": [
  {
   "cell_type": "code",
   "execution_count": null,
   "id": "dc3b3759",
   "metadata": {},
   "outputs": [],
   "source": [
    "INTRODUCTION TO PYTHON PROGRAMMING"
   ]
  },
  {
   "cell_type": "code",
   "execution_count": null,
   "id": "34d5d0d0",
   "metadata": {},
   "outputs": [],
   "source": [
    "understanding the variables in Python"
   ]
  },
  {
   "cell_type": "code",
   "execution_count": 7,
   "id": "1dd23ef3",
   "metadata": {},
   "outputs": [],
   "source": [
    "a = 120"
   ]
  },
  {
   "cell_type": "code",
   "execution_count": 8,
   "id": "e6e86931",
   "metadata": {},
   "outputs": [],
   "source": [
    "b = 43"
   ]
  },
  {
   "cell_type": "code",
   "execution_count": 10,
   "id": "11548f63",
   "metadata": {},
   "outputs": [],
   "source": [
    "c = a+b"
   ]
  },
  {
   "cell_type": "code",
   "execution_count": 11,
   "id": "c7764267",
   "metadata": {},
   "outputs": [
    {
     "name": "stdout",
     "output_type": "stream",
     "text": [
      "163\n"
     ]
    }
   ],
   "source": [
    "print(c)\n"
   ]
  },
  {
   "cell_type": "code",
   "execution_count": null,
   "id": "a2c5b080",
   "metadata": {},
   "outputs": [],
   "source": [
    "Rules for declaring the variables"
   ]
  },
  {
   "cell_type": "code",
   "execution_count": null,
   "id": "21f796de",
   "metadata": {},
   "outputs": [],
   "source": [
    "Rule 1 no name space while declaring the variable name\n"
   ]
  },
  {
   "cell_type": "code",
   "execution_count": 12,
   "id": "8cf318af",
   "metadata": {},
   "outputs": [
    {
     "ename": "SyntaxError",
     "evalue": "invalid syntax (737459261.py, line 1)",
     "output_type": "error",
     "traceback": [
      "\u001b[1;36m  Cell \u001b[1;32mIn[12], line 1\u001b[1;36m\u001b[0m\n\u001b[1;33m    frist name = shruthi\u001b[0m\n\u001b[1;37m          ^\u001b[0m\n\u001b[1;31mSyntaxError\u001b[0m\u001b[1;31m:\u001b[0m invalid syntax\n"
     ]
    }
   ],
   "source": [
    "frist name = shruthi"
   ]
  },
  {
   "cell_type": "code",
   "execution_count": 13,
   "id": "15b8d1b7",
   "metadata": {},
   "outputs": [
    {
     "ename": "SyntaxError",
     "evalue": "invalid syntax. Perhaps you forgot a comma? (969543390.py, line 1)",
     "output_type": "error",
     "traceback": [
      "\u001b[1;36m  Cell \u001b[1;32mIn[13], line 1\u001b[1;36m\u001b[0m\n\u001b[1;33m    print(frist name)\u001b[0m\n\u001b[1;37m          ^\u001b[0m\n\u001b[1;31mSyntaxError\u001b[0m\u001b[1;31m:\u001b[0m invalid syntax. Perhaps you forgot a comma?\n"
     ]
    }
   ],
   "source": [
    "print(frist name)"
   ]
  },
  {
   "cell_type": "code",
   "execution_count": 16,
   "id": "c5c0b0ba",
   "metadata": {},
   "outputs": [],
   "source": [
    "fristname = \"shruthi\""
   ]
  },
  {
   "cell_type": "code",
   "execution_count": 17,
   "id": "1fbb351d",
   "metadata": {},
   "outputs": [
    {
     "name": "stdout",
     "output_type": "stream",
     "text": [
      "shruthi\n"
     ]
    }
   ],
   "source": [
    "print(fristname)"
   ]
  },
  {
   "cell_type": "raw",
   "id": "c6790602",
   "metadata": {},
   "source": [
    "rule 2 A variable name should not start with number"
   ]
  },
  {
   "cell_type": "code",
   "execution_count": 19,
   "id": "87ed3bc7",
   "metadata": {},
   "outputs": [
    {
     "ename": "SyntaxError",
     "evalue": "invalid decimal literal (399141756.py, line 1)",
     "output_type": "error",
     "traceback": [
      "\u001b[1;36m  Cell \u001b[1;32mIn[19], line 1\u001b[1;36m\u001b[0m\n\u001b[1;33m    23name = \"shruthi\"\u001b[0m\n\u001b[1;37m     ^\u001b[0m\n\u001b[1;31mSyntaxError\u001b[0m\u001b[1;31m:\u001b[0m invalid decimal literal\n"
     ]
    }
   ],
   "source": [
    "23name = \"shruthi\""
   ]
  },
  {
   "cell_type": "code",
   "execution_count": 20,
   "id": "2a2965c0",
   "metadata": {},
   "outputs": [],
   "source": [
    "name23=\"shruthi\""
   ]
  },
  {
   "cell_type": "code",
   "execution_count": 21,
   "id": "0ac031c1",
   "metadata": {},
   "outputs": [
    {
     "name": "stdout",
     "output_type": "stream",
     "text": [
      "shruthi\n"
     ]
    }
   ],
   "source": [
    "print(name23)"
   ]
  },
  {
   "cell_type": "code",
   "execution_count": null,
   "id": "ddbae339",
   "metadata": {},
   "outputs": [],
   "source": [
    "rule 3 A variable name should not contain any special character"
   ]
  },
  {
   "cell_type": "code",
   "execution_count": 22,
   "id": "567d8a7b",
   "metadata": {},
   "outputs": [
    {
     "ename": "SyntaxError",
     "evalue": "invalid syntax (647728760.py, line 1)",
     "output_type": "error",
     "traceback": [
      "\u001b[1;36m  Cell \u001b[1;32mIn[22], line 1\u001b[1;36m\u001b[0m\n\u001b[1;33m    name& = \"shruthi\"\u001b[0m\n\u001b[1;37m          ^\u001b[0m\n\u001b[1;31mSyntaxError\u001b[0m\u001b[1;31m:\u001b[0m invalid syntax\n"
     ]
    }
   ],
   "source": [
    "name& = \"shruthi\""
   ]
  },
  {
   "cell_type": "code",
   "execution_count": null,
   "id": "08799076",
   "metadata": {},
   "outputs": [],
   "source": [
    "Introduction to datatypes in python"
   ]
  },
  {
   "cell_type": "code",
   "execution_count": null,
   "id": "f8aa752d",
   "metadata": {},
   "outputs": [],
   "source": [
    "string"
   ]
  },
  {
   "cell_type": "code",
   "execution_count": null,
   "id": "7e4761cd",
   "metadata": {},
   "outputs": [],
   "source": [
    "number"
   ]
  },
  {
   "cell_type": "code",
   "execution_count": null,
   "id": "08b33107",
   "metadata": {},
   "outputs": [],
   "source": [
    "list"
   ]
  },
  {
   "cell_type": "code",
   "execution_count": null,
   "id": "f72d856f",
   "metadata": {},
   "outputs": [],
   "source": [
    "tuples"
   ]
  },
  {
   "cell_type": "code",
   "execution_count": null,
   "id": "270b5661",
   "metadata": {},
   "outputs": [],
   "source": [
    "dictionaries "
   ]
  },
  {
   "cell_type": "code",
   "execution_count": null,
   "id": "7dc1ad65",
   "metadata": {},
   "outputs": [],
   "source": []
  },
  {
   "cell_type": "code",
   "execution_count": null,
   "id": "8e0e486e",
   "metadata": {},
   "outputs": [],
   "source": [
    "classification of datatype"
   ]
  },
  {
   "cell_type": "code",
   "execution_count": null,
   "id": "b6d56d69",
   "metadata": {},
   "outputs": [],
   "source": [
    "mutable datatypes   edit and alter"
   ]
  },
  {
   "cell_type": "code",
   "execution_count": null,
   "id": "44f8a8e8",
   "metadata": {},
   "outputs": [],
   "source": [
    "immutable datatypes   cannot edit and alter"
   ]
  },
  {
   "cell_type": "code",
   "execution_count": null,
   "id": "c4309abe",
   "metadata": {},
   "outputs": [],
   "source": []
  },
  {
   "cell_type": "code",
   "execution_count": null,
   "id": "6f962294",
   "metadata": {},
   "outputs": [],
   "source": [
    "Introduction to string datatype"
   ]
  },
  {
   "cell_type": "code",
   "execution_count": null,
   "id": "14d3abde",
   "metadata": {},
   "outputs": [],
   "source": [
    "A string is a series of characters declared in quotes"
   ]
  },
  {
   "cell_type": "code",
   "execution_count": null,
   "id": "3526b46e",
   "metadata": {},
   "outputs": [],
   "source": [
    "it is classified as an immutable datatype"
   ]
  },
  {
   "cell_type": "code",
   "execution_count": null,
   "id": "952075fc",
   "metadata": {},
   "outputs": [],
   "source": [
    "it can be in single quote or double quote"
   ]
  },
  {
   "cell_type": "code",
   "execution_count": null,
   "id": "7a643bb7",
   "metadata": {},
   "outputs": [],
   "source": []
  },
  {
   "cell_type": "code",
   "execution_count": null,
   "id": "551b9205",
   "metadata": {},
   "outputs": [],
   "source": [
    "Intoduction to string methods"
   ]
  },
  {
   "cell_type": "code",
   "execution_count": 23,
   "id": "897688bc",
   "metadata": {},
   "outputs": [
    {
     "data": {
      "text/plain": [
       "str"
      ]
     },
     "execution_count": 23,
     "metadata": {},
     "output_type": "execute_result"
    }
   ],
   "source": [
    "type(name)"
   ]
  },
  {
   "cell_type": "code",
   "execution_count": 24,
   "id": "396c3eec",
   "metadata": {},
   "outputs": [],
   "source": [
    "name = \"shruthi\""
   ]
  },
  {
   "cell_type": "code",
   "execution_count": 25,
   "id": "611d9d74",
   "metadata": {},
   "outputs": [
    {
     "name": "stdout",
     "output_type": "stream",
     "text": [
      "shruthi\n"
     ]
    }
   ],
   "source": [
    "print(name)"
   ]
  },
  {
   "cell_type": "code",
   "execution_count": 26,
   "id": "6763b984",
   "metadata": {},
   "outputs": [
    {
     "name": "stdout",
     "output_type": "stream",
     "text": [
      "Shruthi\n"
     ]
    }
   ],
   "source": [
    "print(name.title())"
   ]
  },
  {
   "cell_type": "code",
   "execution_count": 27,
   "id": "19857eeb",
   "metadata": {},
   "outputs": [
    {
     "name": "stdout",
     "output_type": "stream",
     "text": [
      "SHRUTHI\n"
     ]
    }
   ],
   "source": [
    "print(name.upper())"
   ]
  },
  {
   "cell_type": "code",
   "execution_count": 28,
   "id": "de07e10c",
   "metadata": {},
   "outputs": [
    {
     "name": "stdout",
     "output_type": "stream",
     "text": [
      "shruthi\n"
     ]
    }
   ],
   "source": [
    "print(name.lower())"
   ]
  },
  {
   "cell_type": "code",
   "execution_count": null,
   "id": "b6d46b52",
   "metadata": {},
   "outputs": [],
   "source": [
    "commenting the code"
   ]
  },
  {
   "cell_type": "code",
   "execution_count": null,
   "id": "5766714e",
   "metadata": {},
   "outputs": [],
   "source": [
    "# is used for commenting the code"
   ]
  },
  {
   "cell_type": "code",
   "execution_count": null,
   "id": "3e7382a7",
   "metadata": {},
   "outputs": [],
   "source": []
  }
 ],
 "metadata": {
  "kernelspec": {
   "display_name": "Python 3 (ipykernel)",
   "language": "python",
   "name": "python3"
  },
  "language_info": {
   "codemirror_mode": {
    "name": "ipython",
    "version": 3
   },
   "file_extension": ".py",
   "mimetype": "text/x-python",
   "name": "python",
   "nbconvert_exporter": "python",
   "pygments_lexer": "ipython3",
   "version": "3.10.9"
  }
 },
 "nbformat": 4,
 "nbformat_minor": 5
}
