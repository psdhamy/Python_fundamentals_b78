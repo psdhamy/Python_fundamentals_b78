{
 "cells": [
  {
   "cell_type": "code",
   "execution_count": null,
   "id": "4d3fb54b",
   "metadata": {},
   "outputs": [],
   "source": [
    "continuation of string datatype"
   ]
  },
  {
   "cell_type": "code",
   "execution_count": null,
   "id": "e6d3ecf9",
   "metadata": {},
   "outputs": [],
   "source": []
  },
  {
   "cell_type": "code",
   "execution_count": null,
   "id": "3f7c0644",
   "metadata": {},
   "outputs": [],
   "source": [
    "general syntax for f string"
   ]
  },
  {
   "cell_type": "code",
   "execution_count": null,
   "id": "48bdd3b0",
   "metadata": {},
   "outputs": [],
   "source": [
    "f\"custom words{placeholder1}{placeholder2}.....{placeholdern}"
   ]
  },
  {
   "cell_type": "code",
   "execution_count": 14,
   "id": "3a6c2592",
   "metadata": {},
   "outputs": [],
   "source": [
    "fristname='shruthi'"
   ]
  },
  {
   "cell_type": "code",
   "execution_count": 15,
   "id": "23e0583b",
   "metadata": {},
   "outputs": [],
   "source": [
    "lastname='siva'"
   ]
  },
  {
   "cell_type": "code",
   "execution_count": 16,
   "id": "5459499a",
   "metadata": {},
   "outputs": [
    {
     "name": "stdout",
     "output_type": "stream",
     "text": [
      "shruthisiva\n"
     ]
    }
   ],
   "source": [
    "fullname=f\"{fristname}{lastname}\"\n",
    "print(fullname)"
   ]
  },
  {
   "cell_type": "code",
   "execution_count": 18,
   "id": "19c4ad70",
   "metadata": {},
   "outputs": [
    {
     "name": "stdout",
     "output_type": "stream",
     "text": [
      "Shruthisiva\n"
     ]
    }
   ],
   "source": [
    "print(fullname.title())"
   ]
  },
  {
   "cell_type": "code",
   "execution_count": 19,
   "id": "568cea51",
   "metadata": {},
   "outputs": [
    {
     "name": "stdout",
     "output_type": "stream",
     "text": [
      "All the best,Shruthisiva\n"
     ]
    }
   ],
   "source": [
    "message=f\"All the best,{fullname.title()}\"\n",
    "print(message)"
   ]
  },
  {
   "cell_type": "code",
   "execution_count": null,
   "id": "8ae8ae88",
   "metadata": {},
   "outputs": [],
   "source": []
  },
  {
   "cell_type": "code",
   "execution_count": null,
   "id": "c0744cc3",
   "metadata": {},
   "outputs": [],
   "source": [
    "Adding whitespaces to strings\n"
   ]
  },
  {
   "cell_type": "code",
   "execution_count": 1,
   "id": "09539155",
   "metadata": {},
   "outputs": [
    {
     "name": "stdout",
     "output_type": "stream",
     "text": [
      "favorite_programming_language:pythonjavac++react\n"
     ]
    }
   ],
   "source": [
    "print(\"favorite_programming_language:pythonjavac++react\")"
   ]
  },
  {
   "cell_type": "code",
   "execution_count": null,
   "id": "c1e1c2fd",
   "metadata": {},
   "outputs": [],
   "source": [
    "\\n new line delimiter"
   ]
  },
  {
   "cell_type": "code",
   "execution_count": 2,
   "id": "f975a41a",
   "metadata": {},
   "outputs": [
    {
     "name": "stdout",
     "output_type": "stream",
     "text": [
      "favorite_programming_language:\n",
      "python\n",
      "java\n",
      "c++\n",
      "react\n"
     ]
    }
   ],
   "source": [
    "print(\"favorite_programming_language:\\npython\\njava\\nc++\\nreact\")"
   ]
  },
  {
   "cell_type": "code",
   "execution_count": null,
   "id": "86030be6",
   "metadata": {},
   "outputs": [],
   "source": [
    "\\t tab delimiter"
   ]
  },
  {
   "cell_type": "code",
   "execution_count": 3,
   "id": "1532715e",
   "metadata": {},
   "outputs": [
    {
     "name": "stdout",
     "output_type": "stream",
     "text": [
      "favorite_programming_languages:\n",
      "\tpython\n",
      "\tjava\n",
      "\tc++\n",
      "\treact\n"
     ]
    }
   ],
   "source": [
    "print(\"favorite_programming_languages:\\n\\tpython\\n\\tjava\\n\\tc++\\n\\treact\")"
   ]
  },
  {
   "cell_type": "code",
   "execution_count": null,
   "id": "a4bd8c7b",
   "metadata": {},
   "outputs": [],
   "source": [
    "Removing whitespace from string"
   ]
  },
  {
   "cell_type": "code",
   "execution_count": 4,
   "id": "673c628a",
   "metadata": {},
   "outputs": [
    {
     "name": "stdout",
     "output_type": "stream",
     "text": [
      "python\n"
     ]
    }
   ],
   "source": [
    "name='python'\n",
    "print(name)"
   ]
  },
  {
   "cell_type": "code",
   "execution_count": 5,
   "id": "49ac7ff3",
   "metadata": {},
   "outputs": [
    {
     "name": "stdout",
     "output_type": "stream",
     "text": [
      "   python\n"
     ]
    }
   ],
   "source": [
    "name2='   python'\n",
    "print(name2)"
   ]
  },
  {
   "cell_type": "code",
   "execution_count": 6,
   "id": "32042468",
   "metadata": {},
   "outputs": [
    {
     "name": "stdout",
     "output_type": "stream",
     "text": [
      "python   \n"
     ]
    }
   ],
   "source": [
    "name3='python   '\n",
    "print(name3)"
   ]
  },
  {
   "cell_type": "code",
   "execution_count": 7,
   "id": "58d7d712",
   "metadata": {},
   "outputs": [
    {
     "data": {
      "text/plain": [
       "'python'"
      ]
     },
     "execution_count": 7,
     "metadata": {},
     "output_type": "execute_result"
    }
   ],
   "source": [
    "name2.lstrip()         "
   ]
  },
  {
   "cell_type": "code",
   "execution_count": 8,
   "id": "4a5af298",
   "metadata": {},
   "outputs": [
    {
     "data": {
      "text/plain": [
       "'python'"
      ]
     },
     "execution_count": 8,
     "metadata": {},
     "output_type": "execute_result"
    }
   ],
   "source": [
    "name3.rstrip()"
   ]
  },
  {
   "cell_type": "code",
   "execution_count": 9,
   "id": "0f2a4c56",
   "metadata": {},
   "outputs": [],
   "source": [
    "name4='   python   '"
   ]
  },
  {
   "cell_type": "code",
   "execution_count": 10,
   "id": "244e14ca",
   "metadata": {},
   "outputs": [
    {
     "data": {
      "text/plain": [
       "'python'"
      ]
     },
     "execution_count": 10,
     "metadata": {},
     "output_type": "execute_result"
    }
   ],
   "source": [
    "name4.strip()"
   ]
  },
  {
   "cell_type": "code",
   "execution_count": null,
   "id": "b044c293",
   "metadata": {},
   "outputs": [],
   "source": []
  }
 ],
 "metadata": {
  "kernelspec": {
   "display_name": "Python 3 (ipykernel)",
   "language": "python",
   "name": "python3"
  },
  "language_info": {
   "codemirror_mode": {
    "name": "ipython",
    "version": 3
   },
   "file_extension": ".py",
   "mimetype": "text/x-python",
   "name": "python",
   "nbconvert_exporter": "python",
   "pygments_lexer": "ipython3",
   "version": "3.10.9"
  }
 },
 "nbformat": 4,
 "nbformat_minor": 5
}
