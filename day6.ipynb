{
 "cells": [
  {
   "cell_type": "code",
   "execution_count": null,
   "id": "dc004835",
   "metadata": {},
   "outputs": [],
   "source": [
    "understanding the looping statement"
   ]
  },
  {
   "cell_type": "code",
   "execution_count": null,
   "id": "806bd848",
   "metadata": {},
   "outputs": [],
   "source": [
    "implementation of the for loop "
   ]
  },
  {
   "cell_type": "code",
   "execution_count": null,
   "id": "dacaf8b1",
   "metadata": {},
   "outputs": [],
   "source": [
    "#general syntax of the for loop"
   ]
  },
  {
   "cell_type": "code",
   "execution_count": null,
   "id": "51344ab5",
   "metadata": {},
   "outputs": [],
   "source": [
    "for tempvar in mainvar:\n",
    "    print(tempvar)"
   ]
  },
  {
   "cell_type": "code",
   "execution_count": 1,
   "id": "9d118bd3",
   "metadata": {},
   "outputs": [],
   "source": [
    "students=['ananya','nasrin','visesha','zeeshan','kumar','arvind']"
   ]
  },
  {
   "cell_type": "code",
   "execution_count": 2,
   "id": "8b78af85",
   "metadata": {},
   "outputs": [
    {
     "name": "stdout",
     "output_type": "stream",
     "text": [
      "['ananya', 'nasrin', 'visesha', 'zeeshan', 'kumar', 'arvind']\n"
     ]
    }
   ],
   "source": [
    "print(students)"
   ]
  },
  {
   "cell_type": "code",
   "execution_count": 4,
   "id": "02cf2a1e",
   "metadata": {},
   "outputs": [
    {
     "data": {
      "text/plain": [
       "list"
      ]
     },
     "execution_count": 4,
     "metadata": {},
     "output_type": "execute_result"
    }
   ],
   "source": [
    "type(students)"
   ]
  },
  {
   "cell_type": "code",
   "execution_count": 5,
   "id": "b4b91496",
   "metadata": {},
   "outputs": [
    {
     "name": "stdout",
     "output_type": "stream",
     "text": [
      "keep up the good work,Ananya\n"
     ]
    }
   ],
   "source": [
    "print(f\"keep up the good work,{students[0].title()}\")"
   ]
  },
  {
   "cell_type": "code",
   "execution_count": null,
   "id": "bccdc29f",
   "metadata": {},
   "outputs": [],
   "source": [
    "for x in students:\n",
    "    "
   ]
  },
  {
   "cell_type": "code",
   "execution_count": 9,
   "id": "8c118aa2",
   "metadata": {},
   "outputs": [
    {
     "name": "stdout",
     "output_type": "stream",
     "text": [
      "keep up the good work,['ananya', 'nasrin', 'visesha', 'zeeshan', 'kumar', 'arvind']\n"
     ]
    }
   ],
   "source": [
    "    print(f\"keep up the good work,{x}\")"
   ]
  },
  {
   "cell_type": "code",
   "execution_count": 10,
   "id": "486e9385",
   "metadata": {},
   "outputs": [
    {
     "name": "stdout",
     "output_type": "stream",
     "text": [
      "keep up the good work,ananya\n",
      "keep up the good work,nasrin\n",
      "keep up the good work,visesha\n",
      "keep up the good work,zeeshan\n",
      "keep up the good work,kumar\n",
      "keep up the good work,arvind\n"
     ]
    }
   ],
   "source": [
    "for a in students:\n",
    "    print(f\"keep up the good work,{a}\")"
   ]
  },
  {
   "cell_type": "code",
   "execution_count": 11,
   "id": "bbf85f59",
   "metadata": {},
   "outputs": [
    {
     "name": "stdout",
     "output_type": "stream",
     "text": [
      "keep up the good work,ananya\n",
      "do submit your work,ananya\n",
      "keep up the good work,nasrin\n",
      "do submit your work,nasrin\n",
      "keep up the good work,visesha\n",
      "do submit your work,visesha\n",
      "keep up the good work,zeeshan\n",
      "do submit your work,zeeshan\n",
      "keep up the good work,kumar\n",
      "do submit your work,kumar\n",
      "keep up the good work,arvind\n",
      "do submit your work,arvind\n"
     ]
    }
   ],
   "source": [
    "for a in students:\n",
    "    print(f\"keep up the good work,{a}\")\n",
    "    print(f\"do submit your work,{a}\")"
   ]
  },
  {
   "cell_type": "code",
   "execution_count": 12,
   "id": "b1f54de7",
   "metadata": {},
   "outputs": [
    {
     "name": "stdout",
     "output_type": "stream",
     "text": [
      "keep up the good work,ananya\n",
      "do submit your work,ananya\n",
      "\n",
      "keep up the good work,nasrin\n",
      "do submit your work,nasrin\n",
      "\n",
      "keep up the good work,visesha\n",
      "do submit your work,visesha\n",
      "\n",
      "keep up the good work,zeeshan\n",
      "do submit your work,zeeshan\n",
      "\n",
      "keep up the good work,kumar\n",
      "do submit your work,kumar\n",
      "\n",
      "keep up the good work,arvind\n",
      "do submit your work,arvind\n",
      "\n"
     ]
    }
   ],
   "source": [
    "for a in students:\n",
    "    print(f\"keep up the good work,{a}\")\n",
    "    print(f\"do submit your work,{a}\\n\")"
   ]
  },
  {
   "cell_type": "code",
   "execution_count": null,
   "id": "5750a40d",
   "metadata": {},
   "outputs": [],
   "source": [
    "Indentation error\n",
    "\n",
    "the space should be the before print"
   ]
  },
  {
   "cell_type": "code",
   "execution_count": 13,
   "id": "0355bfdd",
   "metadata": {},
   "outputs": [
    {
     "ename": "IndentationError",
     "evalue": "expected an indented block after 'for' statement on line 1 (657752896.py, line 2)",
     "output_type": "error",
     "traceback": [
      "\u001b[1;36m  Cell \u001b[1;32mIn[13], line 2\u001b[1;36m\u001b[0m\n\u001b[1;33m    print(f\"keep up the good work,{a}\")\u001b[0m\n\u001b[1;37m    ^\u001b[0m\n\u001b[1;31mIndentationError\u001b[0m\u001b[1;31m:\u001b[0m expected an indented block after 'for' statement on line 1\n"
     ]
    }
   ],
   "source": [
    "for a in students:\n",
    "print(f\"keep up the good work,{a}\")"
   ]
  },
  {
   "cell_type": "code",
   "execution_count": null,
   "id": "96dfb20c",
   "metadata": {},
   "outputs": [],
   "source": [
    "Introduction to tuple datatype\n",
    "\n",
    "defination An immutable list is called a tuple\n",
    "classifiation : it is classified as an immutable datatype\n",
    "    how to define the tuple --- ()"
   ]
  },
  {
   "cell_type": "code",
   "execution_count": 14,
   "id": "fb743a1f",
   "metadata": {},
   "outputs": [],
   "source": [
    "students=('ananya','nasrin','visesha','zeeshan','kumar','arvind')"
   ]
  },
  {
   "cell_type": "code",
   "execution_count": 15,
   "id": "97e1440c",
   "metadata": {},
   "outputs": [
    {
     "data": {
      "text/plain": [
       "tuple"
      ]
     },
     "execution_count": 15,
     "metadata": {},
     "output_type": "execute_result"
    }
   ],
   "source": [
    "type(students)"
   ]
  },
  {
   "cell_type": "code",
   "execution_count": null,
   "id": "1a560a17",
   "metadata": {},
   "outputs": [],
   "source": [
    "# req change name nasrin to sonali"
   ]
  },
  {
   "cell_type": "code",
   "execution_count": 16,
   "id": "3ee18159",
   "metadata": {},
   "outputs": [
    {
     "ename": "TypeError",
     "evalue": "'tuple' object does not support item assignment",
     "output_type": "error",
     "traceback": [
      "\u001b[1;31m---------------------------------------------------------------------------\u001b[0m",
      "\u001b[1;31mTypeError\u001b[0m                                 Traceback (most recent call last)",
      "Cell \u001b[1;32mIn[16], line 1\u001b[0m\n\u001b[1;32m----> 1\u001b[0m students[\u001b[38;5;241m1\u001b[39m]\u001b[38;5;241m=\u001b[39m\u001b[38;5;124m'\u001b[39m\u001b[38;5;124msonali\u001b[39m\u001b[38;5;124m'\u001b[39m\n",
      "\u001b[1;31mTypeError\u001b[0m: 'tuple' object does not support item assignment"
     ]
    }
   ],
   "source": [
    "students[1]='sonali'"
   ]
  },
  {
   "cell_type": "code",
   "execution_count": 17,
   "id": "7c6a5f5a",
   "metadata": {},
   "outputs": [
    {
     "name": "stdout",
     "output_type": "stream",
     "text": [
      "Nasrin\n"
     ]
    }
   ],
   "source": [
    "print(students[1].title())"
   ]
  },
  {
   "cell_type": "code",
   "execution_count": 18,
   "id": "cc7f5ea8",
   "metadata": {},
   "outputs": [
    {
     "name": "stdout",
     "output_type": "stream",
     "text": [
      "ananya\n",
      "nasrin\n",
      "visesha\n",
      "zeeshan\n",
      "kumar\n",
      "arvind\n"
     ]
    }
   ],
   "source": [
    "for a in students:\n",
    "    print(a)"
   ]
  },
  {
   "cell_type": "code",
   "execution_count": 20,
   "id": "a73ee288",
   "metadata": {},
   "outputs": [
    {
     "name": "stdout",
     "output_type": "stream",
     "text": [
      "Ananya\n",
      "Nasrin\n",
      "Visesha\n",
      "Zeeshan\n",
      "Kumar\n",
      "Arvind\n"
     ]
    }
   ],
   "source": [
    "for a in students:\n",
    "    print(a.title())"
   ]
  },
  {
   "cell_type": "code",
   "execution_count": 21,
   "id": "09f4eefd",
   "metadata": {},
   "outputs": [
    {
     "name": "stdout",
     "output_type": "stream",
     "text": [
      "(200, 50)\n"
     ]
    }
   ],
   "source": [
    "dimensions=(200,50)\n",
    "print(dimensions)"
   ]
  },
  {
   "cell_type": "code",
   "execution_count": 22,
   "id": "cc4aa3a5",
   "metadata": {},
   "outputs": [
    {
     "data": {
      "text/plain": [
       "tuple"
      ]
     },
     "execution_count": 22,
     "metadata": {},
     "output_type": "execute_result"
    }
   ],
   "source": [
    "type(dimensions)"
   ]
  },
  {
   "cell_type": "code",
   "execution_count": null,
   "id": "5eaae482",
   "metadata": {},
   "outputs": [],
   "source": []
  }
 ],
 "metadata": {
  "kernelspec": {
   "display_name": "Python 3 (ipykernel)",
   "language": "python",
   "name": "python3"
  },
  "language_info": {
   "codemirror_mode": {
    "name": "ipython",
    "version": 3
   },
   "file_extension": ".py",
   "mimetype": "text/x-python",
   "name": "python",
   "nbconvert_exporter": "python",
   "pygments_lexer": "ipython3",
   "version": "3.10.9"
  }
 },
 "nbformat": 4,
 "nbformat_minor": 5
}
