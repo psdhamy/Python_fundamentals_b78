{
 "cells": [
  {
   "cell_type": "code",
   "execution_count": null,
   "id": "544ffd79",
   "metadata": {},
   "outputs": [],
   "source": [
    "Introduction to list datatype"
   ]
  },
  {
   "cell_type": "code",
   "execution_count": null,
   "id": "3029b033",
   "metadata": {},
   "outputs": [],
   "source": [
    "list is a collection of items declared ina particular order\n",
    "classification : it is classified as an mutable datatype"
   ]
  },
  {
   "cell_type": "code",
   "execution_count": null,
   "id": "a48315fa",
   "metadata": {},
   "outputs": [],
   "source": [
    "how to define /declare the list  []"
   ]
  },
  {
   "cell_type": "code",
   "execution_count": 1,
   "id": "9a04ff9f",
   "metadata": {},
   "outputs": [],
   "source": [
    "students= ['shruthi','siva','kumar','nivedhitha','vasanth','john','paul']"
   ]
  },
  {
   "cell_type": "code",
   "execution_count": 2,
   "id": "6541b51c",
   "metadata": {},
   "outputs": [
    {
     "name": "stdout",
     "output_type": "stream",
     "text": [
      "['shruthi', 'siva', 'kumar', 'nivedhitha', 'vasanth', 'john', 'paul']\n"
     ]
    }
   ],
   "source": [
    "print(students)"
   ]
  },
  {
   "cell_type": "code",
   "execution_count": 3,
   "id": "299b61a3",
   "metadata": {},
   "outputs": [
    {
     "data": {
      "text/plain": [
       "list"
      ]
     },
     "execution_count": 3,
     "metadata": {},
     "output_type": "execute_result"
    }
   ],
   "source": [
    "type(students)"
   ]
  },
  {
   "cell_type": "code",
   "execution_count": null,
   "id": "ba6980d6",
   "metadata": {},
   "outputs": [],
   "source": [
    "Intoduction to inexing\n",
    "#req i want to get the name of nivedhitha on tne output"
   ]
  },
  {
   "cell_type": "code",
   "execution_count": 4,
   "id": "2f7d83ff",
   "metadata": {},
   "outputs": [
    {
     "name": "stdout",
     "output_type": "stream",
     "text": [
      "nivedhitha\n"
     ]
    }
   ],
   "source": [
    "print(students[3])"
   ]
  },
  {
   "cell_type": "code",
   "execution_count": 5,
   "id": "b86513f8",
   "metadata": {},
   "outputs": [
    {
     "name": "stdout",
     "output_type": "stream",
     "text": [
      "Nivedhitha\n"
     ]
    }
   ],
   "source": [
    "print(students[3].title())"
   ]
  },
  {
   "cell_type": "code",
   "execution_count": null,
   "id": "4410f330",
   "metadata": {},
   "outputs": [],
   "source": [
    "how to add a new elements to the list"
   ]
  },
  {
   "cell_type": "code",
   "execution_count": null,
   "id": "a76cd858",
   "metadata": {},
   "outputs": [],
   "source": [
    "how to modify a new elements to the list\n",
    "how to delete a new elements to the list"
   ]
  },
  {
   "cell_type": "code",
   "execution_count": null,
   "id": "fb786e5f",
   "metadata": {},
   "outputs": [],
   "source": [
    "# req i want to add pranay to the list"
   ]
  },
  {
   "cell_type": "code",
   "execution_count": 6,
   "id": "294876e9",
   "metadata": {},
   "outputs": [
    {
     "name": "stdout",
     "output_type": "stream",
     "text": [
      "['shruthi', 'siva', 'kumar', 'nivedhitha', 'vasanth', 'john', 'paul', 'pranay']\n"
     ]
    }
   ],
   "source": [
    "students.append('pranay')\n",
    "print(students)"
   ]
  },
  {
   "cell_type": "code",
   "execution_count": 7,
   "id": "2160212b",
   "metadata": {},
   "outputs": [
    {
     "name": "stdout",
     "output_type": "stream",
     "text": [
      "['shruthi', 'siva', 'kumar', 'nivedhitha', 'vasanth', 'john', 'paul', 'pranay', 'manoj']\n"
     ]
    }
   ],
   "source": [
    "students.append('manoj')\n",
    "print(students)"
   ]
  },
  {
   "cell_type": "code",
   "execution_count": null,
   "id": "7425e10f",
   "metadata": {},
   "outputs": [],
   "source": [
    "#req i want to add bala to the 2nd index position"
   ]
  },
  {
   "cell_type": "code",
   "execution_count": 9,
   "id": "f91f8bf9",
   "metadata": {},
   "outputs": [
    {
     "name": "stdout",
     "output_type": "stream",
     "text": [
      "['shruthi', 'siva', 'bala', 'kumar', 'nivedhitha', 'vasanth', 'john', 'paul', 'pranay', 'manoj']\n"
     ]
    }
   ],
   "source": [
    "students.insert(2,'bala')\n",
    "print(students)"
   ]
  },
  {
   "cell_type": "code",
   "execution_count": null,
   "id": "72cd1268",
   "metadata": {},
   "outputs": [],
   "source": [
    "#req i want to modify siva to vishal"
   ]
  },
  {
   "cell_type": "code",
   "execution_count": 11,
   "id": "634abbb0",
   "metadata": {},
   "outputs": [
    {
     "name": "stdout",
     "output_type": "stream",
     "text": [
      "['shruthi', 'vishal', 'bala', 'kumar', 'nivedhitha', 'vasanth', 'john', 'paul', 'pranay', 'manoj']\n"
     ]
    }
   ],
   "source": [
    "students[1]='vishal'\n",
    "print(students)"
   ]
  },
  {
   "cell_type": "code",
   "execution_count": null,
   "id": "94009f16",
   "metadata": {},
   "outputs": [],
   "source": [
    "Temporary deleting -- pop\n",
    "by default pop will be deleting the item from the last. if needed we can specify the index as well. pop will be storing the \n",
    "deleted item in the variables that has been assigned to it."
   ]
  },
  {
   "cell_type": "code",
   "execution_count": 12,
   "id": "e8e1bfb0",
   "metadata": {},
   "outputs": [
    {
     "name": "stdout",
     "output_type": "stream",
     "text": [
      "['shruthi', 'vishal', 'bala', 'kumar', 'nivedhitha', 'vasanth', 'john', 'paul', 'pranay']\n"
     ]
    }
   ],
   "source": [
    "x=students.pop()\n",
    "print(students)"
   ]
  },
  {
   "cell_type": "code",
   "execution_count": 13,
   "id": "543ae970",
   "metadata": {},
   "outputs": [
    {
     "name": "stdout",
     "output_type": "stream",
     "text": [
      "manoj\n"
     ]
    }
   ],
   "source": [
    "print(x)"
   ]
  },
  {
   "cell_type": "code",
   "execution_count": null,
   "id": "485dda6f",
   "metadata": {},
   "outputs": [],
   "source": [
    "#req delete john"
   ]
  },
  {
   "cell_type": "code",
   "execution_count": 14,
   "id": "7b2bc4da",
   "metadata": {},
   "outputs": [
    {
     "name": "stdout",
     "output_type": "stream",
     "text": [
      "['shruthi', 'vishal', 'bala', 'kumar', 'nivedhitha', 'vasanth', 'paul', 'pranay']\n",
      "john\n"
     ]
    }
   ],
   "source": [
    "y=students.pop(6)\n",
    "print(students)\n",
    "print(y)"
   ]
  },
  {
   "cell_type": "code",
   "execution_count": null,
   "id": "63cd6af0",
   "metadata": {},
   "outputs": [],
   "source": [
    "# req i want to delete vishal"
   ]
  },
  {
   "cell_type": "code",
   "execution_count": 16,
   "id": "41b76550",
   "metadata": {},
   "outputs": [
    {
     "name": "stdout",
     "output_type": "stream",
     "text": [
      "['shruthi', 'bala', 'kumar', 'nivedhitha', 'vasanth', 'paul', 'pranay']\n"
     ]
    }
   ],
   "source": [
    "del students[1]\n",
    "print(students)"
   ]
  },
  {
   "cell_type": "code",
   "execution_count": null,
   "id": "0e0d9644",
   "metadata": {},
   "outputs": [],
   "source": []
  },
  {
   "cell_type": "code",
   "execution_count": null,
   "id": "ddd74424",
   "metadata": {},
   "outputs": [],
   "source": []
  },
  {
   "cell_type": "code",
   "execution_count": null,
   "id": "88661c32",
   "metadata": {},
   "outputs": [],
   "source": []
  }
 ],
 "metadata": {
  "kernelspec": {
   "display_name": "Python 3 (ipykernel)",
   "language": "python",
   "name": "python3"
  },
  "language_info": {
   "codemirror_mode": {
    "name": "ipython",
    "version": 3
   },
   "file_extension": ".py",
   "mimetype": "text/x-python",
   "name": "python",
   "nbconvert_exporter": "python",
   "pygments_lexer": "ipython3",
   "version": "3.10.9"
  }
 },
 "nbformat": 4,
 "nbformat_minor": 5
}
